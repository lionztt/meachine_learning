{
 "cells": [
  {
   "cell_type": "code",
   "execution_count": 1,
   "metadata": {},
   "outputs": [],
   "source": [
    "import numpy as np\n",
    "import matplotlib.pyplot as plt\n",
    "from sklearn import datasets"
   ]
  },
  {
   "cell_type": "code",
   "execution_count": 2,
   "metadata": {},
   "outputs": [],
   "source": [
    "iris = datasets.load_iris()"
   ]
  },
  {
   "cell_type": "code",
   "execution_count": 3,
   "metadata": {},
   "outputs": [],
   "source": [
    "X = iris.data\n",
    "y = iris.target"
   ]
  },
  {
   "cell_type": "code",
   "execution_count": 4,
   "metadata": {},
   "outputs": [
    {
     "data": {
      "text/plain": [
       "(150, 4)"
      ]
     },
     "execution_count": 4,
     "metadata": {},
     "output_type": "execute_result"
    }
   ],
   "source": [
    "X.shape"
   ]
  },
  {
   "cell_type": "markdown",
   "metadata": {},
   "source": [
    "## train test split"
   ]
  },
  {
   "cell_type": "markdown",
   "metadata": {},
   "source": [
    "为了使测试集与训练集标签分布均匀，对索引进行乱序处理"
   ]
  },
  {
   "cell_type": "code",
   "execution_count": 10,
   "metadata": {},
   "outputs": [],
   "source": [
    "shuffle_indexes = np.random.permutation(X.shape[0])"
   ]
  },
  {
   "cell_type": "code",
   "execution_count": 11,
   "metadata": {},
   "outputs": [
    {
     "data": {
      "text/plain": [
       "array([ 24, 128,  36,  13,  23,  64, 138,   2, 140, 111,  89, 115,  50,\n",
       "       123,  68, 127, 125, 143,  27, 124,  53,  31,   6,  93,  43, 120,\n",
       "       119,  29,  74,  41, 104,  95,  80, 142,  14, 137,  79,  88,  73,\n",
       "        67,  37,  11,  55, 147, 110,  25,  35, 141,  85,  57, 114,  16,\n",
       "         9,  22,  46, 132,  12, 148,  94, 101,  15,  99,  91,  19, 108,\n",
       "        42, 139,  96,  71,  30,  63, 126,  40,  45, 144,   5,  51,  52,\n",
       "       136,   7,  98,  54,   0,  26,  56, 130, 134,  84, 103,  86,  21,\n",
       "       118, 146,  69,  47, 129, 135,  90,  28, 121, 133, 149,  83,  32,\n",
       "        78, 117, 145, 107,  92, 102, 105,  82, 100,  70,  20,  58,  87,\n",
       "        49,  62,   4, 109, 113,  76,  48,  66,   1,  17,  59, 131,  34,\n",
       "         8,  44,  81,  18, 106,  65, 112,  75,  97, 116,  72,   3,  33,\n",
       "        39,  61, 122,  10,  77,  60,  38])"
      ]
     },
     "execution_count": 11,
     "metadata": {},
     "output_type": "execute_result"
    }
   ],
   "source": [
    "shuffle_indexes"
   ]
  },
  {
   "cell_type": "code",
   "execution_count": 8,
   "metadata": {},
   "outputs": [],
   "source": [
    "test_retio = 0.2\n",
    "test_size = int(X.shape[0] * test_retio)"
   ]
  },
  {
   "cell_type": "code",
   "execution_count": 9,
   "metadata": {},
   "outputs": [
    {
     "data": {
      "text/plain": [
       "30"
      ]
     },
     "execution_count": 9,
     "metadata": {},
     "output_type": "execute_result"
    }
   ],
   "source": [
    "test_size"
   ]
  },
  {
   "cell_type": "code",
   "execution_count": 12,
   "metadata": {},
   "outputs": [],
   "source": [
    "test_indexes = shuffle_indexes[:test_size]# 前20%作为测试集\n",
    "train_indexes = shuffle_indexes[test_size:]"
   ]
  },
  {
   "cell_type": "code",
   "execution_count": 13,
   "metadata": {},
   "outputs": [],
   "source": [
    "X_train = X[train_indexes]\n",
    "X_test = X[test_indexes]\n",
    "\n",
    "y_train = y[train_indexes]\n",
    "y_test = y[test_indexes]"
   ]
  },
  {
   "cell_type": "code",
   "execution_count": 15,
   "metadata": {},
   "outputs": [
    {
     "data": {
      "text/plain": [
       "(120, 4)"
      ]
     },
     "execution_count": 15,
     "metadata": {},
     "output_type": "execute_result"
    },
    {
     "data": {
      "text/plain": [
       "(120,)"
      ]
     },
     "execution_count": 15,
     "metadata": {},
     "output_type": "execute_result"
    },
    {
     "data": {
      "text/plain": [
       "(30, 4)"
      ]
     },
     "execution_count": 15,
     "metadata": {},
     "output_type": "execute_result"
    },
    {
     "data": {
      "text/plain": [
       "(30,)"
      ]
     },
     "execution_count": 15,
     "metadata": {},
     "output_type": "execute_result"
    }
   ],
   "source": [
    "X_train.shape\n",
    "y_train.shape\n",
    "\n",
    "X_test.shape\n",
    "y_test.shape"
   ]
  },
  {
   "cell_type": "code",
   "execution_count": 8,
   "metadata": {},
   "outputs": [],
   "source": [
    "import train_test_split"
   ]
  },
  {
   "cell_type": "code",
   "execution_count": 15,
   "metadata": {},
   "outputs": [],
   "source": [
    "X_tr,y_tr,X_te,y_te = train_test_split.train_test_split(X,y,test_ratio=0.3)"
   ]
  },
  {
   "cell_type": "code",
   "execution_count": 16,
   "metadata": {},
   "outputs": [
    {
     "data": {
      "text/plain": [
       "((105, 4), (105,), array([[5.1, 3.8, 1.9, 0.4],\n",
       "        [5.8, 2.7, 5.1, 1.9],\n",
       "        [5.1, 3.8, 1.5, 0.3],\n",
       "        [4.7, 3.2, 1.6, 0.2],\n",
       "        [4.4, 3. , 1.3, 0.2],\n",
       "        [4.8, 3.4, 1.6, 0.2],\n",
       "        [5. , 3.4, 1.5, 0.2],\n",
       "        [4.8, 3. , 1.4, 0.1],\n",
       "        [6.5, 3. , 5.8, 2.2],\n",
       "        [5.4, 3.9, 1.3, 0.4],\n",
       "        [6.5, 2.8, 4.6, 1.5],\n",
       "        [6.2, 3.4, 5.4, 2.3],\n",
       "        [6.7, 3. , 5.2, 2.3],\n",
       "        [5.3, 3.7, 1.5, 0.2],\n",
       "        [5. , 3.3, 1.4, 0.2],\n",
       "        [5. , 3.5, 1.6, 0.6],\n",
       "        [5.7, 3.8, 1.7, 0.3],\n",
       "        [6.3, 2.8, 5.1, 1.5],\n",
       "        [5.8, 2.7, 3.9, 1.2],\n",
       "        [5.2, 4.1, 1.5, 0.1],\n",
       "        [6.9, 3.2, 5.7, 2.3],\n",
       "        [6. , 2.2, 5. , 1.5],\n",
       "        [6.4, 3.2, 5.3, 2.3],\n",
       "        [6.3, 2.9, 5.6, 1.8],\n",
       "        [6.8, 3. , 5.5, 2.1],\n",
       "        [6.7, 2.5, 5.8, 1.8],\n",
       "        [5. , 3.4, 1.6, 0.4],\n",
       "        [5.6, 2.8, 4.9, 2. ],\n",
       "        [6.9, 3.1, 5.1, 2.3],\n",
       "        [5.1, 3.8, 1.6, 0.2],\n",
       "        [6.1, 2.8, 4. , 1.3],\n",
       "        [6.4, 3.2, 4.5, 1.5],\n",
       "        [5.9, 3. , 4.2, 1.5],\n",
       "        [6.3, 2.5, 4.9, 1.5],\n",
       "        [6. , 2.7, 5.1, 1.6],\n",
       "        [5.2, 3.5, 1.5, 0.2],\n",
       "        [5.8, 4. , 1.2, 0.2],\n",
       "        [5.4, 3.4, 1.7, 0.2],\n",
       "        [5.1, 3.5, 1.4, 0.3],\n",
       "        [4.6, 3.2, 1.4, 0.2],\n",
       "        [4.7, 3.2, 1.3, 0.2],\n",
       "        [5.5, 2.4, 3.7, 1. ],\n",
       "        [6.1, 2.8, 4.7, 1.2],\n",
       "        [6.3, 2.5, 5. , 1.9],\n",
       "        [5.6, 3. , 4.1, 1.3]]), array([0, 2, 0, 0, 0, 0, 0, 0, 2, 0, 1, 2, 2, 0, 0, 0, 0, 2, 1, 0, 2, 2,\n",
       "        2, 2, 2, 2, 0, 2, 2, 0, 1, 1, 1, 1, 1, 0, 0, 0, 0, 0, 0, 1, 1, 2,\n",
       "        1]))"
      ]
     },
     "execution_count": 16,
     "metadata": {},
     "output_type": "execute_result"
    }
   ],
   "source": [
    "X_tr.shape,y_tr.shape,X_te,y_te"
   ]
  },
  {
   "cell_type": "code",
   "execution_count": 23,
   "metadata": {},
   "outputs": [],
   "source": [
    "import sys\n",
    "sys.path.append(\"..\")\n",
    "import knn.kNNClassifier "
   ]
  },
  {
   "cell_type": "code",
   "execution_count": 26,
   "metadata": {},
   "outputs": [],
   "source": [
    "my_knn_clf = knn.kNNClassifier.kNNClassifier(k=3)"
   ]
  },
  {
   "cell_type": "code",
   "execution_count": 27,
   "metadata": {},
   "outputs": [
    {
     "data": {
      "text/plain": [
       "KNN(k=3)"
      ]
     },
     "execution_count": 27,
     "metadata": {},
     "output_type": "execute_result"
    }
   ],
   "source": [
    "my_knn_clf.fit(X_tr,y_tr)"
   ]
  },
  {
   "cell_type": "code",
   "execution_count": 28,
   "metadata": {},
   "outputs": [],
   "source": [
    "y_predict = my_knn_clf.predict(X_te)"
   ]
  },
  {
   "cell_type": "code",
   "execution_count": 29,
   "metadata": {},
   "outputs": [
    {
     "data": {
      "text/plain": [
       "array([0, 2, 0, 0, 0, 0, 0, 0, 2, 0, 1, 2, 2, 0, 0, 0, 0, 2, 1, 0, 2, 2,\n",
       "       2, 2, 2, 2, 0, 2, 2, 0, 1, 1, 1, 2, 2, 0, 0, 0, 0, 0, 0, 1, 1, 2,\n",
       "       1])"
      ]
     },
     "execution_count": 29,
     "metadata": {},
     "output_type": "execute_result"
    }
   ],
   "source": [
    "y_predict"
   ]
  },
  {
   "cell_type": "markdown",
   "metadata": {},
   "source": [
    "预测准确率"
   ]
  },
  {
   "cell_type": "code",
   "execution_count": 30,
   "metadata": {},
   "outputs": [
    {
     "data": {
      "text/plain": [
       "43"
      ]
     },
     "execution_count": 30,
     "metadata": {},
     "output_type": "execute_result"
    }
   ],
   "source": [
    "sum(y_predict == y_te)"
   ]
  },
  {
   "cell_type": "code",
   "execution_count": 31,
   "metadata": {},
   "outputs": [
    {
     "data": {
      "text/plain": [
       "0.9555555555555556"
      ]
     },
     "execution_count": 31,
     "metadata": {},
     "output_type": "execute_result"
    }
   ],
   "source": [
    "sum(y_predict == y_te)/len(y_te)"
   ]
  },
  {
   "cell_type": "code",
   "execution_count": null,
   "metadata": {},
   "outputs": [],
   "source": []
  }
 ],
 "metadata": {
  "kernelspec": {
   "display_name": "Python 3",
   "language": "python",
   "name": "python3"
  },
  "language_info": {
   "codemirror_mode": {
    "name": "ipython",
    "version": 3
   },
   "file_extension": ".py",
   "mimetype": "text/x-python",
   "name": "python",
   "nbconvert_exporter": "python",
   "pygments_lexer": "ipython3",
   "version": "3.7.1"
  }
 },
 "nbformat": 4,
 "nbformat_minor": 2
}
